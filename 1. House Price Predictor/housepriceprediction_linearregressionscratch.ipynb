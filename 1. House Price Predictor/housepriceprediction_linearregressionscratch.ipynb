{
 "cells": [
  {
   "cell_type": "code",
   "execution_count": null,
   "id": "638acfe1-1147-4ef7-90a6-4fb3f40498c5",
   "metadata": {},
   "outputs": [],
   "source": [
    "#Project1: House price prediction\n",
    "'''\n",
    "steps\n",
    "step1: data collection\n",
    "step2: data cleaning (here data is already clean)\n",
    "step3: data splitting\n",
    "step4: model training\n",
    "step5:visualization\n",
    "step6: model testing\n",
    "step7: prediction\n",
    "\n",
    "'''"
   ]
  },
  {
   "cell_type": "code",
   "execution_count": 76,
   "id": "06617ee7-0e84-4d61-8ab4-2a5cb4aa1e1a",
   "metadata": {},
   "outputs": [
    {
     "data": {
      "text/html": [
       "<div>\n",
       "<style scoped>\n",
       "    .dataframe tbody tr th:only-of-type {\n",
       "        vertical-align: middle;\n",
       "    }\n",
       "\n",
       "    .dataframe tbody tr th {\n",
       "        vertical-align: top;\n",
       "    }\n",
       "\n",
       "    .dataframe thead th {\n",
       "        text-align: right;\n",
       "    }\n",
       "</style>\n",
       "<table border=\"1\" class=\"dataframe\">\n",
       "  <thead>\n",
       "    <tr style=\"text-align: right;\">\n",
       "      <th></th>\n",
       "      <th>Area</th>\n",
       "      <th>Price</th>\n",
       "    </tr>\n",
       "  </thead>\n",
       "  <tbody>\n",
       "    <tr>\n",
       "      <th>0</th>\n",
       "      <td>1260</td>\n",
       "      <td>8220000</td>\n",
       "    </tr>\n",
       "    <tr>\n",
       "      <th>1</th>\n",
       "      <td>1694</td>\n",
       "      <td>12805000</td>\n",
       "    </tr>\n",
       "    <tr>\n",
       "      <th>2</th>\n",
       "      <td>1530</td>\n",
       "      <td>11001000</td>\n",
       "    </tr>\n",
       "    <tr>\n",
       "      <th>3</th>\n",
       "      <td>1495</td>\n",
       "      <td>9829000</td>\n",
       "    </tr>\n",
       "    <tr>\n",
       "      <th>4</th>\n",
       "      <td>3492</td>\n",
       "      <td>23422000</td>\n",
       "    </tr>\n",
       "  </tbody>\n",
       "</table>\n",
       "</div>"
      ],
      "text/plain": [
       "   Area     Price\n",
       "0  1260   8220000\n",
       "1  1694  12805000\n",
       "2  1530  11001000\n",
       "3  1495   9829000\n",
       "4  3492  23422000"
      ]
     },
     "execution_count": 76,
     "metadata": {},
     "output_type": "execute_result"
    }
   ],
   "source": [
    "import pandas as pd\n",
    "df=pd.read_csv(r'C:\\Users\\AARUSHI TANDON\\Downloads\\house_prices_50.csv')\n",
    "df.head()"
   ]
  },
  {
   "cell_type": "code",
   "execution_count": 82,
   "id": "55b1cdfd-c2f2-442b-a94c-de38473fa357",
   "metadata": {},
   "outputs": [
    {
     "name": "stdout",
     "output_type": "stream",
     "text": [
      "X_train shape:  (40, 1)\n",
      "X_test shape:  (10, 1)\n",
      "y_train shape:  (40,)\n",
      "y_test shape:  (10,)\n"
     ]
    }
   ],
   "source": [
    "from sklearn.model_selection import train_test_split\n",
    "X=df[['Area']].values\n",
    "y=df['Price'].values\n",
    "# Feature scaling (Min-Max scaling)\n",
    "X_min, X_max = X.min(), X.max()\n",
    "y_min, y_max = y.min(), y.max()\n",
    "X_scaled = (X - X_min) / (X_max - X_min)\n",
    "y_scaled = (y - y_min) / (y_max - y_min)\n",
    "X_train, X_test, y_train, y_test = train_test_split(X_scaled, y_scaled, test_size=0.2, random_state=42)\n",
    "print(\"X_train shape: \", X_train.shape)\n",
    "print(\"X_test shape: \", X_test.shape)\n",
    "print(\"y_train shape: \", y_train.shape)\n",
    "print(\"y_test shape: \", y_test.shape)"
   ]
  },
  {
   "cell_type": "code",
   "execution_count": 98,
   "id": "aed42779-4a5d-4312-9e3b-b7a79309037b",
   "metadata": {},
   "outputs": [],
   "source": [
    "#training linear regression from scratch\n",
    "import numpy as np\n",
    "\n",
    "w=0\n",
    "b=0 #initialising w and b\n",
    "\n",
    "learning_rate=0.08\n",
    "epochs=1000\n",
    "m=len(X_train)\n"
   ]
  },
  {
   "cell_type": "code",
   "execution_count": 99,
   "id": "f396e511-29cb-4972-a89c-10a26277c65d",
   "metadata": {},
   "outputs": [
    {
     "name": "stdout",
     "output_type": "stream",
     "text": [
      "Epoch 0, Loss: 0.1554822087216166\n",
      "Epoch 100, Loss: 0.009202171284375345\n",
      "Epoch 200, Loss: 0.0040588595052900005\n",
      "Epoch 300, Loss: 0.0021638646551021996\n",
      "Epoch 400, Loss: 0.001465675305070917\n",
      "Epoch 500, Loss: 0.0012084353614115453\n",
      "Epoch 600, Loss: 0.0011136582230737671\n",
      "Epoch 700, Loss: 0.0010787386618900943\n",
      "Epoch 800, Loss: 0.0010658729458044862\n",
      "Epoch 900, Loss: 0.001061132718700118\n",
      "Trained weight w is 0.9504564823690975\n",
      "Trained bias b is -0.020988608670773734\n"
     ]
    }
   ],
   "source": [
    "#Gradient descent loop\n",
    "for i in range(epochs):\n",
    "    y_pred=w*X_train+b\n",
    "    error=y_pred-y_train.reshape(-1,1)\n",
    "    dw=(1/m)*np.sum(error*X_train)\n",
    "    db=(1/m)*np.sum(error)\n",
    "    w=w-learning_rate*dw\n",
    "    b=b-learning_rate*db\n",
    "    if i % 100 == 0:\n",
    "        loss = (1/(2*m)) * np.sum(error**2)\n",
    "        print(f\"Epoch {i}, Loss: {loss}\")\n",
    "\n",
    "print(f\"Trained weight w is {w}\")\n",
    "print(f\"Trained bias b is {b}\")"
   ]
  },
  {
   "cell_type": "code",
   "execution_count": 100,
   "id": "975ab722-a070-41af-a290-8f249eefffc1",
   "metadata": {},
   "outputs": [
    {
     "data": {
      "image/png": "[encoded data removed]",
      "text/plain": [
       "<Figure size 640x480 with 1 Axes>"
      ]
     },
     "metadata": {},
     "output_type": "display_data"
    }
   ],
   "source": [
    "import matplotlib.pyplot as plt\n",
    "y_pred=w*X_train+b\n",
    "plt.scatter(X_train, y_train, color='blue', label='Actual Prices')\n",
    "plt.plot(X_train, y_pred, color='red', label='Predicted Line')\n",
    "plt.xlabel('Area (scaled)')\n",
    "plt.ylabel('Price')\n",
    "plt.legend()\n",
    "plt.show()"
   ]
  },
  {
   "cell_type": "code",
   "execution_count": 101,
   "id": "37b9fb04-6795-4cc2-b50d-7fbe5b3004df",
   "metadata": {
    "scrolled": true
   },
   "outputs": [
    {
     "name": "stdout",
     "output_type": "stream",
     "text": [
      "Mean Squared Error on test data: 0.0025113057605969154\n"
     ]
    }
   ],
   "source": [
    "y_test_pred=w*X_test+b\n",
    "m = len(X_test)  # number of test samples\n",
    "error = y_test_pred - y_test.reshape(-1, 1)\n",
    "mse = (1/m) * np.sum(error ** 2)\n",
    "print(f\"Mean Squared Error on test data: {mse}\")\n"
   ]
  },
  {
   "cell_type": "code",
   "execution_count": 102,
   "id": "27791773-60bc-4214-aa59-042a8dee1f5f",
   "metadata": {},
   "outputs": [
    {
     "data": {
      "image/png": "[encoded data removed]",
      "text/plain": [
       "<Figure size 640x480 with 1 Axes>"
      ]
     },
     "metadata": {},
     "output_type": "display_data"
    }
   ],
   "source": [
    "plt.scatter(X_test, y_test, color='blue', label='Actual Test Prices')\n",
    "plt.plot(X_test, y_test_pred, color='red', label='Predicted Test Prices')\n",
    "plt.xlabel('Area (scaled)')\n",
    "plt.ylabel('Price')\n",
    "plt.legend()\n",
    "plt.show()\n"
   ]
  },
  {
   "cell_type": "code",
   "execution_count": 103,
   "id": "2acda81e-c3b4-45a1-9935-074b3b936f85",
   "metadata": {},
   "outputs": [
    {
     "name": "stdin",
     "output_type": "stream",
     "text": [
      "Enter area in sq.ft:  1255\n"
     ]
    },
    {
     "name": "stdout",
     "output_type": "stream",
     "text": [
      "Predicted Price for 1255.0 sq.ft = ₹9093583.75\n"
     ]
    }
   ],
   "source": [
    "area_input = float(input(\"Enter area in sq.ft: \"))\n",
    "scaled_area = (area_input - X_min) / (X_max - X_min)\n",
    "predicted_price_scaled = w * scaled_area + b\n",
    "predicted_price = predicted_price_scaled * (y_max - y_min) + y_min\n",
    "\n",
    "print(f\"Predicted Price for {area_input} sq.ft = ₹{predicted_price:.2f}\")\n"
   ]
  },
  {
   "cell_type": "code",
   "execution_count": null,
   "id": "f4189293-0396-4616-aa49-e98dffde9232",
   "metadata": {},
   "outputs": [],
   "source": []
  }
 ],
 "metadata": {
  "kernelspec": {
   "display_name": "Python 3 (ipykernel)",
   "language": "python",
   "name": "python3"
  },
  "language_info": {
   "codemirror_mode": {
    "name": "ipython",
    "version": 3
   },
   "file_extension": ".py",
   "mimetype": "text/x-python",
   "name": "python",
   "nbconvert_exporter": "python",
   "pygments_lexer": "ipython3",
   "version": "3.10.0"
  }
 },
 "nbformat": 4,
 "nbformat_minor": 5
}
