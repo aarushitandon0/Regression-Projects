{
 "cells": [
  {
   "cell_type": "code",
   "execution_count": null,
   "id": "fff585e2-9c00-40f0-9778-d863de16ccb1",
   "metadata": {},
   "outputs": [],
   "source": [
    "#Email spam or not??\n",
    "'''\n",
    "step1: Data collection then loading the data\n",
    "step2: Data cleaning (it is already done)\n",
    "step3: Data splitting (scale them first)\n",
    "step4: model training\n",
    "step5: visualisation\n",
    "step6: model testing\n",
    "step7: prediction\n",
    "'''"
   ]
  },
  {
   "cell_type": "code",
   "execution_count": 2,
   "id": "08d32056-4cd9-46b4-b418-783c02a5ec92",
   "metadata": {
    "scrolled": true
   },
   "outputs": [
    {
     "name": "stdout",
     "output_type": "stream",
     "text": [
      "   word_freq_make  word_freq_address  word_freq_all  word_freq_3d  \\\n",
      "0            0.00               0.64           0.64           0.0   \n",
      "1            0.21               0.28           0.50           0.0   \n",
      "2            0.06               0.00           0.71           0.0   \n",
      "3            0.00               0.00           0.00           0.0   \n",
      "4            0.00               0.00           0.00           0.0   \n",
      "\n",
      "   word_freq_our  word_freq_over  word_freq_remove  word_freq_internet  \\\n",
      "0           0.32            0.00              0.00                0.00   \n",
      "1           0.14            0.28              0.21                0.07   \n",
      "2           1.23            0.19              0.19                0.12   \n",
      "3           0.63            0.00              0.31                0.63   \n",
      "4           0.63            0.00              0.31                0.63   \n",
      "\n",
      "   word_freq_order  word_freq_mail  ...  char_freq_;  char_freq_(  \\\n",
      "0             0.00            0.00  ...         0.00        0.000   \n",
      "1             0.00            0.94  ...         0.00        0.132   \n",
      "2             0.64            0.25  ...         0.01        0.143   \n",
      "3             0.31            0.63  ...         0.00        0.137   \n",
      "4             0.31            0.63  ...         0.00        0.135   \n",
      "\n",
      "   char_freq_[  char_freq_!  char_freq_$  char_freq_#  \\\n",
      "0          0.0        0.778        0.000        0.000   \n",
      "1          0.0        0.372        0.180        0.048   \n",
      "2          0.0        0.276        0.184        0.010   \n",
      "3          0.0        0.137        0.000        0.000   \n",
      "4          0.0        0.135        0.000        0.000   \n",
      "\n",
      "   capital_run_length_average  capital_run_length_longest  \\\n",
      "0                       3.756                          61   \n",
      "1                       5.114                         101   \n",
      "2                       9.821                         485   \n",
      "3                       3.537                          40   \n",
      "4                       3.537                          40   \n",
      "\n",
      "   capital_run_length_total  label  \n",
      "0                       278      1  \n",
      "1                      1028      1  \n",
      "2                      2259      1  \n",
      "3                       191      1  \n",
      "4                       191      1  \n",
      "\n",
      "[5 rows x 58 columns]\n"
     ]
    }
   ],
   "source": [
    "import pandas as pd\n",
    "columns = [\n",
    "    'word_freq_make', 'word_freq_address', 'word_freq_all', 'word_freq_3d', 'word_freq_our',\n",
    "    'word_freq_over', 'word_freq_remove', 'word_freq_internet', 'word_freq_order', 'word_freq_mail',\n",
    "    'word_freq_receive', 'word_freq_will', 'word_freq_people', 'word_freq_report', 'word_freq_addresses',\n",
    "    'word_freq_free', 'word_freq_business', 'word_freq_email', 'word_freq_you', 'word_freq_credit',\n",
    "    'word_freq_your', 'word_freq_font', 'word_freq_000', 'word_freq_money', 'word_freq_hp',\n",
    "    'word_freq_hpl', 'word_freq_george', 'word_freq_650', 'word_freq_lab', 'word_freq_labs',\n",
    "    'word_freq_telnet', 'word_freq_857', 'word_freq_data', 'word_freq_415', 'word_freq_85',\n",
    "    'word_freq_technology', 'word_freq_1999', 'word_freq_parts', 'word_freq_pm', 'word_freq_direct',\n",
    "    'word_freq_cs', 'word_freq_meeting', 'word_freq_original', 'word_freq_project', 'word_freq_re',\n",
    "    'word_freq_edu', 'word_freq_table', 'word_freq_conference',\n",
    "    'char_freq_;', 'char_freq_(', 'char_freq_[', 'char_freq_!', 'char_freq_$', 'char_freq_#',\n",
    "    'capital_run_length_average', 'capital_run_length_longest', 'capital_run_length_total',\n",
    "    'label'\n",
    "]\n",
    "df=pd.read_csv(r\"C:\\Users\\AARUSHI TANDON\\Downloads\\spambase\\spambase.data\", header=None, names=columns)\n",
    "print(df.head())"
   ]
  },
  {
   "cell_type": "code",
   "execution_count": 3,
   "id": "9b156d70-d92f-4c5f-911e-599e2289b338",
   "metadata": {},
   "outputs": [
    {
     "name": "stdout",
     "output_type": "stream",
     "text": [
      "X_train shape:  (3680, 57)\n",
      "X_test shape:  (921, 57)\n",
      "y_train shape:  (3680,)\n",
      "y_test shape:  (921,)\n"
     ]
    }
   ],
   "source": [
    "X=df.drop('label', axis=1) #axis=1 means you have to operate along the columns, columns are on axis 1 and rows are on axis 0\n",
    "y=df['label']\n",
    "X_min, X_max= X.min(), X.max()\n",
    "X_scaled=(X-X_min)/(X_max-X_min)\n",
    "from sklearn.model_selection import train_test_split\n",
    "X_train, X_test, y_train, y_test= train_test_split(X_scaled, y, test_size=0.2, random_state=42)\n",
    "print(\"X_train shape: \", X_train.shape)\n",
    "print(\"X_test shape: \", X_test.shape)\n",
    "print(\"y_train shape: \", y_train.shape)\n",
    "print(\"y_test shape: \", y_test.shape)"
   ]
  },
  {
   "cell_type": "code",
   "execution_count": 4,
   "id": "6e51b88a-aa50-4e72-b0d0-9edf71f452c7",
   "metadata": {},
   "outputs": [],
   "source": [
    "#model training\n",
    "#1. define sigmoid\n",
    "import numpy as np\n",
    "def sigmoid(z):\n",
    "    return 1/(1+np.exp(-z))"
   ]
  },
  {
   "cell_type": "code",
   "execution_count": 7,
   "id": "66e4b1d0-08f7-422b-983a-cc4814e8e926",
   "metadata": {},
   "outputs": [],
   "source": [
    "w=np.zeros(X_train.shape[1]) #cuz every feature has diff w, like w1 for x1, w2 for x2 and so on\n",
    "b=0"
   ]
  },
  {
   "cell_type": "code",
   "execution_count": 24,
   "id": "b465ceb2-1ad8-483d-b225-c80c78cff77b",
   "metadata": {},
   "outputs": [],
   "source": [
    "def propagate(w,b, X, y):\n",
    "    m=X.shape[0]\n",
    "    z=np.dot(X,w)+b\n",
    "    A=sigmoid(z)\n",
    "    cost = -(1/m) * np.sum(y * np.log(A + 1e-8) + (1 - y) * np.log(1 - A + 1e-8))\n",
    "    dw = (1/m) * np.dot(X.T, (A - y))\n",
    "    db = (1/m) * np.sum(A - y)\n",
    "    grads={\"dw\": dw, \"db\": db}\n",
    "    return grads, cost\n",
    "    "
   ]
  },
  {
   "cell_type": "code",
   "execution_count": 25,
   "id": "b11470a1-12f9-45ac-a4a6-b0fe089f80c8",
   "metadata": {},
   "outputs": [],
   "source": [
    "#gradient descent\n",
    "def optimize(w, b, X, y, epochs, learning_rate):\n",
    "    costs=[]\n",
    "    for i in range(epochs):\n",
    "        grads, cost = propagate(w, b, X, y)\n",
    "        dw = grads[\"dw\"]\n",
    "        db = grads[\"db\"]\n",
    "\n",
    "        w=w-learning_rate*dw\n",
    "        b=b-learning_rate*db\n",
    "        if i % 100 == 0:\n",
    "            costs.append(cost)\n",
    "            print(f\"Cost after iteration {i}: {cost:.4f}\")\n",
    "\n",
    "    return w, b, costs"
   ]
  },
  {
   "cell_type": "code",
   "execution_count": 38,
   "id": "3c17f080-1922-4938-a02c-a8fa89e41a75",
   "metadata": {},
   "outputs": [
    {
     "name": "stdout",
     "output_type": "stream",
     "text": [
      "Cost after iteration 0: 0.2936\n",
      "Cost after iteration 100: 0.2902\n",
      "Cost after iteration 200: 0.2871\n",
      "Cost after iteration 300: 0.2843\n",
      "Cost after iteration 400: 0.2817\n",
      "Cost after iteration 500: 0.2793\n",
      "Cost after iteration 600: 0.2771\n",
      "Cost after iteration 700: 0.2751\n",
      "Cost after iteration 800: 0.2732\n",
      "Cost after iteration 900: 0.2714\n",
      "Cost after iteration 1000: 0.2697\n",
      "Cost after iteration 1100: 0.2681\n",
      "Cost after iteration 1200: 0.2666\n",
      "Cost after iteration 1300: 0.2652\n",
      "Cost after iteration 1400: 0.2638\n",
      "Cost after iteration 1500: 0.2626\n",
      "Cost after iteration 1600: 0.2613\n",
      "Cost after iteration 1700: 0.2602\n",
      "Cost after iteration 1800: 0.2591\n",
      "Cost after iteration 1900: 0.2580\n"
     ]
    },
    {
     "data": {
      "image/png": "[encoded data removed]",
      "text/plain": [
       "<Figure size 640x480 with 1 Axes>"
      ]
     },
     "metadata": {},
     "output_type": "display_data"
    }
   ],
   "source": [
    "import matplotlib.pyplot as plt\n",
    "\n",
    "epochs = 2000\n",
    "learning_rate = 2.7\n",
    "\n",
    "# Train\n",
    "w, b, costs = optimize(w, b, X_train, y_train, epochs, learning_rate)\n",
    "\n",
    "# Plot\n",
    "plt.plot(range(0, len(costs)*100, 100), costs)\n",
    "plt.xlabel(\"Iterations\")\n",
    "plt.ylabel(\"Cost\")\n",
    "plt.title(\"Cost vs Iterations\")\n",
    "plt.grid(True)\n",
    "plt.show()\n",
    "\n"
   ]
  },
  {
   "cell_type": "code",
   "execution_count": 39,
   "id": "ed148cf7-d8e1-4442-94fe-57ea39dd8151",
   "metadata": {},
   "outputs": [],
   "source": [
    "#prediction function\n",
    "def predict(w, b, X):\n",
    "    z=np.dot(X, w)+b\n",
    "    y_pred_prob=sigmoid(z)\n",
    "    y_pred=y_pred_prob>0.5\n",
    "    return y_pred.astype(int)\n",
    "y_pred_test = predict(w, b, X_test)\n"
   ]
  },
  {
   "cell_type": "code",
   "execution_count": 40,
   "id": "473c6a38-254d-4fc1-913f-efa4d41c7d4e",
   "metadata": {},
   "outputs": [
    {
     "name": "stdout",
     "output_type": "stream",
     "text": [
      "Test Accuracy: 90.12%\n"
     ]
    }
   ],
   "source": [
    "def accuracy(y_true, y_pred):\n",
    "    return np.mean(y_true == y_pred) * 100\n",
    "\n",
    "acc = accuracy(y_test, y_pred_test)\n",
    "print(f\"Test Accuracy: {acc:.2f}%\")\n"
   ]
  },
  {
   "cell_type": "code",
   "execution_count": null,
   "id": "e6fd8dda-89cc-44b8-b99a-6f5a5c1182b3",
   "metadata": {},
   "outputs": [],
   "source": []
  }
 ],
 "metadata": {
  "kernelspec": {
   "display_name": "Python 3 (ipykernel)",
   "language": "python",
   "name": "python3"
  },
  "language_info": {
   "codemirror_mode": {
    "name": "ipython",
    "version": 3
   },
   "file_extension": ".py",
   "mimetype": "text/x-python",
   "name": "python",
   "nbconvert_exporter": "python",
   "pygments_lexer": "ipython3",
   "version": "3.10.0"
  }
 },
 "nbformat": 4,
 "nbformat_minor": 5
}
